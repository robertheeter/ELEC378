{
 "cells": [
  {
   "cell_type": "code",
   "execution_count": null,
   "id": "8ee42dc5",
   "metadata": {},
   "outputs": [],
   "source": [
    "# ROBERT HEETER\n",
    "# ELEC 378 Machine Learning\n",
    "# 24 February 2023\n",
    "\n",
    "# PROBLEM SET 6\n"
   ]
  },
  {
   "cell_type": "code",
   "execution_count": null,
   "id": "c80c1118",
   "metadata": {},
   "outputs": [],
   "source": [
    "# PROBLEM 1\n",
    "\n",
    "import pandas as pd\n",
    "import numpy as np\n",
    "import matplotlib.pyplot as plt\n",
    "\n",
    "# PART A\n",
    "\n",
    "df_train = pd.read_csv('train.csv')\n",
    "train_nums = df_train.select_dtypes(include='number') # select only numerical data types\n",
    "del train_nums['MSSubClass'] # the MSSubClass column is not actually a numerical feature, so remove it\n",
    "\n",
    "data = train_nums.values\n",
    "X = data[:,~np.isnan(data).any(axis=0)]\n",
    "y = X[:,-1] # final column of the data set is the actual sale price\n",
    "X = np.delete(X,-1,1)\n",
    "\n",
    "m = X.min(axis=0) # minimum value in each feature\n",
    "r = np.ptp(X,axis=0) # range of values for each feature\n",
    "\n",
    "X = (X-m)/r # normalize data using minimum value and range of values\n",
    "\n",
    "X[:,0] = np.ones([len(X)]) # set first column to 1's to account for the center of the data; this replaces the first column of house indexes in the dataset, which is not informative\n",
    "\n",
    "print('dataset for inspection:')\n",
    "print(X)\n",
    "print(np.shape(X))"
   ]
  },
  {
   "cell_type": "code",
   "execution_count": null,
   "id": "1d9685cb",
   "metadata": {},
   "outputs": [],
   "source": [
    "# PART B\n",
    "\n",
    "# scratch linear regression implementation\n",
    "psuedo_X = np.linalg.pinv(X) # compute Moore-Penrose pseudoinverse, pseudo_X = (X^T*X)^-1 * X^T\n",
    "\n",
    "w = np.matmul(psuedo_X, y) # find optimal weightings, w = pseudo_X*y\n",
    "y_approx = np.matmul(X, w) # find calculated y (sale price) from regression, y_approx = X*w (+ error)\n",
    "\n",
    "n = len(y)\n",
    "error = np.mean((np.abs(y-y_approx))/y)*100\n",
    "# error = np.linalg.norm(y-y_approx,ord=1)/n # use 1-norm to calculate average deviation from\n",
    "\n",
    "print('scratch linreg predicted price (y_approx) average percent difference from actual price (y):')\n",
    "print(f'{round(error, 3)}%')\n",
    "\n",
    "plt.figure(0)\n",
    "plt.scatter(y/1000, y_approx/1000, s=5)\n",
    "plt.plot([0,700], [0,700], 'r-', linewidth=1)\n",
    "plt.legend(['home','perfect accuracy (prediction = actual)'])\n",
    "plt.xlabel('Actual sale price [$1000s]')\n",
    "plt.ylabel('Linreg predicted sale price [$1000s]')\n",
    "plt.title('Accuracy of linreg predicted sale price')\n",
    "\n",
    "# check prediction using sklearn\n",
    "from sklearn.linear_model import LinearRegression\n",
    "\n",
    "reg = LinearRegression().fit(X, y) \n",
    "sk_y_approx = reg.predict(X)\n",
    "sk_diff = np.mean((np.abs(sk_y_approx-y_approx))/y_approx)*100\n",
    "\n",
    "print('\\nsklearn predicted price (sk_y_approx) average percent difference from scratch linreg implementation (y_approx):')\n",
    "print(f'{round(sk_diff, 16)}%')\n"
   ]
  },
  {
   "cell_type": "code",
   "execution_count": null,
   "id": "833a7949",
   "metadata": {},
   "outputs": [],
   "source": [
    "# PART C\n",
    "\n",
    "w_i = np.flip(np.argsort(abs(w)))\n",
    "\n",
    "train_nums = train_nums.rename(columns = {'Id':'~'}) # rename first column to '~' since it was used for centering\n",
    "labels = train_nums.columns[~np.isnan(data).any(axis=0)] # remove all columns that were ignored for linear regression\n",
    "\n",
    "print('most to least impactful features for determining sale price:')\n",
    "print(labels[w_i])\n",
    "\n",
    "print('\\nmost to least impactful feature weights for determining sale price:')\n",
    "print(w[w_i])\n"
   ]
  },
  {
   "cell_type": "code",
   "execution_count": null,
   "id": "74b17fb4",
   "metadata": {},
   "outputs": [],
   "source": []
  }
 ],
 "metadata": {
  "kernelspec": {
   "display_name": "Python 3 (ipykernel)",
   "language": "python",
   "name": "python3"
  },
  "language_info": {
   "codemirror_mode": {
    "name": "ipython",
    "version": 3
   },
   "file_extension": ".py",
   "mimetype": "text/x-python",
   "name": "python",
   "nbconvert_exporter": "python",
   "pygments_lexer": "ipython3",
   "version": "3.9.7"
  }
 },
 "nbformat": 4,
 "nbformat_minor": 5
}
