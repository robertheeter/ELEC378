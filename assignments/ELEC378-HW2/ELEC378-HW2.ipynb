{
 "cells": [
  {
   "cell_type": "code",
   "execution_count": 1,
   "id": "8f27eb41",
   "metadata": {},
   "outputs": [],
   "source": [
    "# ROBERT HEETER\n",
    "# ELEC 378 Machine Learning\n",
    "# 27 January 2023\n",
    "\n",
    "# PROBLEM SET 2\n"
   ]
  },
  {
   "cell_type": "code",
   "execution_count": 2,
   "id": "45fdc71f",
   "metadata": {},
   "outputs": [],
   "source": [
    "import scipy.io as sc\n",
    "from scipy import signal\n",
    "import numpy as np\n",
    "import matplotlib.pyplot as plt\n",
    "import time\n",
    "import struct\n"
   ]
  },
  {
   "cell_type": "code",
   "execution_count": 3,
   "id": "67b52172",
   "metadata": {},
   "outputs": [],
   "source": [
    "a = sc.loadmat('cauchy_schwarz_decoding.mat')\n",
    "b = sc.loadmat('cauchy_schwarz_decoding_2.mat')\n"
   ]
  },
  {
   "cell_type": "code",
   "execution_count": 4,
   "id": "fadb8f02",
   "metadata": {},
   "outputs": [],
   "source": [
    "chrp = np.squeeze(b['chrp'])\n",
    "y2 = np.squeeze(b['y2'])\n",
    "L_chrp = np.shape(chrp)[0]\n",
    "\n",
    "# find the sequence of inner products between chirp and received signal via convolution\n",
    "# must time flip signal for convolution and time flip convolution back to forward direction\n",
    "conv = np.flip(signal.convolve(chrp,np.flip(y2),'valid'))\n"
   ]
  },
  {
   "cell_type": "code",
   "execution_count": 5,
   "id": "27d90e90",
   "metadata": {},
   "outputs": [
    {
     "data": {
      "image/png": "[encoded data removed]",
      "text/plain": [
       "<Figure size 432x288 with 1 Axes>"
      ]
     },
     "metadata": {
      "needs_background": "light"
     },
     "output_type": "display_data"
    },
    {
     "name": "stdout",
     "output_type": "stream",
     "text": [
      "start of first chirp: 32768\n",
      "start of second chirp: 608320\n",
      "chirp length: 8192\n",
      "signal length: 567360\n"
     ]
    }
   ],
   "source": [
    "# find peaks in conv to locate chirp start/stop tones and extract the desired signal\n",
    "plt.plot(conv)\n",
    "plt.xlabel('Index along chirp-signal convolution (peaks are starts of chirps)')\n",
    "plt.ylabel('Convolution magnitude')\n",
    "plt.show()\n",
    "\n",
    "# find indices of the 2 largest values in the convolution (see graph)\n",
    "end_chrp,start_chrp = np.argpartition(conv,-2)[-2:]\n",
    "\n",
    "# signal starts at the end of the first chirp and ends at the start of the second chirp\n",
    "y = y2[(start_chrp + L_chrp):end_chrp]\n",
    "\n",
    "print('start of first chirp: ' + str(start_chrp)) # start of first chirp\n",
    "print('start of second chirp: ' + str(end_chrp)) # start of second chirp\n",
    "print('chirp length: ' + str(L_chrp)) # chirp length\n",
    "print('signal length: ' + str(np.shape(y)[0])) # signal length (divisible by 40)\n"
   ]
  },
  {
   "cell_type": "code",
   "execution_count": 6,
   "id": "f2369fe2",
   "metadata": {},
   "outputs": [],
   "source": [
    "# from PROBLEM SET #1\n",
    "\n",
    "c0 = a['c0']\n",
    "c1 = a['c1']\n",
    "\n",
    "# construct the matrix C which contains as columns the carriers c0 and c1\n",
    "C = np.transpose(np.array([c0[0],c1[0]]))\n",
    "\n",
    "# construct the matrix Y which contains as rows the received (noisy) carrier\n",
    "# tones corresponding to each transmitted bit\n",
    "# the width of Y should be equal to the length of one carrier tone\n",
    "Y = y.reshape(-1,np.shape(C)[0])\n",
    "\n",
    "# use matrix multiplication of C and Y to compute the sequence of inner products\n",
    "# between each received (noisy) carrier tone and each known carrier tone (c0 and c1)\n",
    "S = np.matmul(Y,C)\n",
    "\n",
    "# use argmax to decode according to cauchy schwarz \n",
    "# bits should have shape (N,) where N is the number of decoded bits\n",
    "bits = np.argmax(np.abs(S), axis=1)\n",
    "\n",
    "# conversion from binary to uint8\n",
    "strResult = ''.join(str(n) for n in bits)\n",
    "byteResult = list(int(strResult[i : i+8][::-1], 2) for i in range(0, len(strResult), 8))\n",
    "arrayResult = np.asarray([byteResult]).astype('uint8')\n",
    "\n",
    "# writing decoded bits as a .jpg\n",
    "f = open('decoded.jpg','wb')\n",
    "f.write(arrayResult)\n",
    "f.close()\n"
   ]
  },
  {
   "cell_type": "code",
   "execution_count": null,
   "id": "f2d35072",
   "metadata": {},
   "outputs": [],
   "source": []
  }
 ],
 "metadata": {
  "kernelspec": {
   "display_name": "Python 3 (ipykernel)",
   "language": "python",
   "name": "python3"
  },
  "language_info": {
   "codemirror_mode": {
    "name": "ipython",
    "version": 3
   },
   "file_extension": ".py",
   "mimetype": "text/x-python",
   "name": "python",
   "nbconvert_exporter": "python",
   "pygments_lexer": "ipython3",
   "version": "3.9.7"
  }
 },
 "nbformat": 4,
 "nbformat_minor": 5
}
