{
 "cells": [
  {
   "cell_type": "code",
   "execution_count": 1,
   "id": "8abb4036",
   "metadata": {},
   "outputs": [],
   "source": [
    "# ROBERT HEETER\n",
    "# ELEC 378 Machine Learning\n",
    "# 20 January 2023\n",
    "\n",
    "# PROBLEM SET 1\n"
   ]
  },
  {
   "cell_type": "code",
   "execution_count": 2,
   "id": "0e9d0c05",
   "metadata": {},
   "outputs": [],
   "source": [
    "import numpy as np\n",
    "import matplotlib.pyplot as plt\n"
   ]
  },
  {
   "cell_type": "code",
   "execution_count": 3,
   "id": "b8dfee5a",
   "metadata": {},
   "outputs": [
    {
     "data": {
      "image/png": "[encoded data removed]",
      "text/plain": [
       "<Figure size 432x288 with 1 Axes>"
      ]
     },
     "metadata": {
      "needs_background": "light"
     },
     "output_type": "display_data"
    }
   ],
   "source": [
    "# PROBLEM 1\n",
    "\n",
    "# max dimension to simulate\n",
    "D = 22\n",
    "\n",
    "# store the estimated volume in each dimension\n",
    "volume = np.squeeze(np.zeros((1,D)))\n",
    "\n",
    "# in d dimensions\n",
    "for d in np.arange(1,D):\n",
    "    # generate N random vectors uniformly distributed throughout the ell-infinity ball\n",
    "    # and stack them as rows in the matrix X\n",
    "    N = 1000*d\n",
    "    X = np.random.uniform(-1,1,(N,d))\n",
    "\n",
    "    # estimate the volume between the ell-infinity and ell-2 ball using the random samples\n",
    "    # use the ratio of vectors in the ell-infinity ball that lie outside of the ell-2 ball\n",
    "    # (i.e. the number of vectors with 2-norm greater than 1) to the total number of vectors\n",
    "    # as a metric for the distribution between the ell-infinity and ell-2 balls\n",
    "    volume[d] = sum((np.linalg.norm(X,ord=2,axis=1) > 1)*1)/N\n",
    "\n",
    "# plot the dimension vs. volume between the ell-infinity and ell-2 ball\n",
    "plt.plot(volume)\n",
    "plt.xlabel('Dimension, D')\n",
    "plt.ylabel('Ratio of # of vectors in the ell-inf\\n ball but outside the ell-2 ball\\n to the total number of vectors')\n",
    "plt.show()\n"
   ]
  },
  {
   "cell_type": "code",
   "execution_count": 4,
   "id": "ec5fdca0",
   "metadata": {},
   "outputs": [],
   "source": [
    "# PROBLEM 3\n",
    "\n",
    "from scipy.io import loadmat\n",
    "from scipy.io.wavfile import write\n",
    "import numpy as np\n"
   ]
  },
  {
   "cell_type": "code",
   "execution_count": 7,
   "id": "521acc42",
   "metadata": {},
   "outputs": [
    {
     "name": "stdout",
     "output_type": "stream",
     "text": [
      "(1, 521280)\n"
     ]
    }
   ],
   "source": [
    "data = loadmat('cauchy_schwarz_decoding.mat')\n",
    "\n",
    "y = data['y']\n",
    "c0 = data['c0']\n",
    "c1 = data['c1']\n",
    "\n",
    "# construct the matrix C which contains as columns the carriers c0 and c1\n",
    "C = np.transpose(np.array([c0[0],c1[0]]))\n",
    "\n",
    "# construct the matrix Y which contains as rows the received (noisy) carrier\n",
    "# tones corresponding to each transmitted bit\n",
    "# the width of Y should be equal to the length of one carrier tone\n",
    "Y = y.reshape(-1,np.shape(C)[0])\n",
    "\n",
    "# use matrix multiplication of C and Y to compute the sequence of inner products\n",
    "# between each received (noisy) carrier tone and each known carrier tone (c0 and c1)\n",
    "S = np.matmul(Y,C)\n",
    "\n",
    "# use argmax to decode according to cauchy schwarz \n",
    "# bits should have shape (N,) where N is the number of decoded bits\n",
    "bits = np.argmax(np.abs(S), axis=1)\n"
   ]
  },
  {
   "cell_type": "code",
   "execution_count": 6,
   "id": "e9330247",
   "metadata": {},
   "outputs": [],
   "source": [
    "# conversion from binary to uint8\n",
    "strResult = ''.join(str(n) for n in bits)\n",
    "byteResult = list(int(strResult[i : i+8][::-1], 2) for i in range(0, len(strResult), 8))\n",
    "arrayResult = np.asarray([byteResult]).astype('uint8')\n",
    "\n",
    "# writing decoded bits as a .jpg\n",
    "f = open('decoded.jpg','wb')\n",
    "f.write(arrayResult)\n",
    "f.close()\n"
   ]
  },
  {
   "cell_type": "code",
   "execution_count": 7,
   "id": "b358cab6",
   "metadata": {},
   "outputs": [],
   "source": [
    "# construct the matrix X which contains in its i^th column the carrier tone \n",
    "# corresponding to the i^th bit transmitted\n",
    "X = C[:,bits]\n",
    "\n",
    "# construct the signal x(t) by playing the carrier tones in sequence\n",
    "x = X.flatten('F')\n",
    "y = y.flatten()\n",
    "\n",
    "# listen to the noisy received signal y(t) vs your denoised reconstruction x(t)\n",
    "fs = 44100\n",
    "write(\"y.wav\",fs,y)\n",
    "write(\"x.wav\",fs,x)\n"
   ]
  },
  {
   "cell_type": "code",
   "execution_count": null,
   "id": "003e7d2b",
   "metadata": {},
   "outputs": [],
   "source": []
  }
 ],
 "metadata": {
  "kernelspec": {
   "display_name": "Python 3 (ipykernel)",
   "language": "python",
   "name": "python3"
  },
  "language_info": {
   "codemirror_mode": {
    "name": "ipython",
    "version": 3
   },
   "file_extension": ".py",
   "mimetype": "text/x-python",
   "name": "python",
   "nbconvert_exporter": "python",
   "pygments_lexer": "ipython3",
   "version": "3.9.7"
  }
 },
 "nbformat": 4,
 "nbformat_minor": 5
}
