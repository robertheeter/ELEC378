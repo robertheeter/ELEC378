{
 "cells": [
  {
   "cell_type": "code",
   "execution_count": 1,
   "id": "8ee42dc5",
   "metadata": {},
   "outputs": [],
   "source": [
    "# ROBERT HEETER\n",
    "# ELEC 378 Machine Learning\n",
    "# 29 April 2023\n",
    "\n",
    "# PROJECT V4\n"
   ]
  },
  {
   "cell_type": "code",
   "execution_count": 2,
   "id": "d4f49467",
   "metadata": {},
   "outputs": [],
   "source": [
    "import numpy as np\n",
    "import os\n",
    "import matplotlib.pyplot as plt\n",
    "\n",
    "import librosa\n"
   ]
  },
  {
   "cell_type": "code",
   "execution_count": 97,
   "id": "6b50b830",
   "metadata": {},
   "outputs": [
    {
     "name": "stdout",
     "output_type": "stream",
     "text": [
      "[[-7.11837280e+02  6.46761398e+01  4.56567478e+00 ...  3.67054653e+00\n",
      "   1.74070251e+00  3.90848660e+00]\n",
      " [-6.03193481e+02  1.73712940e+01 -1.56018944e+01 ...  2.47283936e+00\n",
      "  -8.46360981e-01 -4.47844148e-01]\n",
      " [-5.35610046e+02  6.28307800e+01 -1.34983034e+01 ...  6.73127174e+00\n",
      "   4.39640522e+00  2.56857562e+00]\n",
      " ...\n",
      " [-5.59642151e+02  5.42044601e+01  1.07576733e+01 ...  2.66460228e+00\n",
      "  -4.21445042e-01  1.79412746e+00]\n",
      " [-5.85458801e+02  4.27496529e+01 -1.96429024e+01 ... -3.33718471e-02\n",
      "  -1.97226238e+00 -2.54910767e-01]\n",
      " [-4.28510468e+02  5.41152802e+01 -1.27884512e+01 ...  1.75566900e+00\n",
      "   1.26846135e+00  3.85259938e+00]] [1 6 6 ... 2 0 6]\n"
     ]
    }
   ],
   "source": [
    "directory = os.path.join(os.getcwd(),'elec-378-sp2023-speech-emotion-classification/data/data/')\n",
    "data = np.empty((1125, 2), dtype=object)\n",
    "\n",
    "emotion_to_id = {\n",
    "    \"angry\" : 0,\n",
    "    \"calm\" : 1,\n",
    "    \"disgust\" : 2,\n",
    "    \"fearful\" : 3,\n",
    "    \"happy\" : 4,\n",
    "    \"neutral\" : 5,\n",
    "    \"sad\" : 6,\n",
    "    \"surprised\" : 7\n",
    "}\n",
    "\n",
    "i = 0\n",
    "for filename in os.listdir(directory):\n",
    "    f = os.path.join(directory, filename)\n",
    "\n",
    "    if os.path.isfile(f):\n",
    "        emotion = filename[:len(filename)-7]\n",
    "        data[i][0] = \"/\"+filename\n",
    "        data[i][1] = int(emotion_to_id[emotion])\n",
    "        i += 1\n",
    "\n",
    "def make_mfcc(file, n_mfcc):\n",
    "    sig, sr = librosa.load(file)\n",
    "    sig_mfcc = librosa.feature.mfcc(y=sig, sr=sr, n_mfcc=n_mfcc, S=None, htk=True)\n",
    "    sig_mfcc_avg = np.mean(sig_mfcc, axis=1)\n",
    "    \n",
    "    return sig_mfcc_avg\n",
    "\n",
    "n_mfcc = 34\n",
    "n_mfcc = 40\n",
    "\n",
    "X = np.empty((len(data), n_mfcc), dtype=float)\n",
    "y = np.empty((len(data)), dtype=int)\n",
    "\n",
    "for i in range(len(data)):\n",
    "    file = directory + data[i][0]\n",
    "    X[i] = make_mfcc(file, n_mfcc=n_mfcc)\n",
    "    y[i] = data[i][1]\n",
    "\n",
    "print(X, y)\n"
   ]
  },
  {
   "cell_type": "code",
   "execution_count": 98,
   "id": "f70df7ea",
   "metadata": {},
   "outputs": [],
   "source": [
    "from sklearn.model_selection import train_test_split\n",
    "\n",
    "X_train, X_test, y_train, y_test = train_test_split(X, y, test_size=0.1, random_state=42)\n"
   ]
  },
  {
   "cell_type": "markdown",
   "id": "38d552f9",
   "metadata": {},
   "source": [
    "# **Support Vector Machine (SVM)**"
   ]
  },
  {
   "cell_type": "code",
   "execution_count": 99,
   "id": "a766bbb8",
   "metadata": {},
   "outputs": [
    {
     "name": "stdout",
     "output_type": "stream",
     "text": [
      "81.41592920353983%\n"
     ]
    }
   ],
   "source": [
    "from sklearn.pipeline import make_pipeline\n",
    "from sklearn.preprocessing import StandardScaler, RobustScaler\n",
    "from sklearn.svm import SVC\n",
    "from sklearn.metrics import accuracy_score\n",
    "\n",
    "clf = make_pipeline(RobustScaler(), SVC(C=15, tol=0.001))\n",
    "clf.fit(X_train, y_train)\n",
    "\n",
    "y_pred = clf.predict(X_test)\n",
    "accuracy = accuracy_score(y_test, y_pred)\n",
    "\n",
    "print(f\"{accuracy*100}%\")\n"
   ]
  },
  {
   "cell_type": "code",
   "execution_count": null,
   "id": "407e3980",
   "metadata": {},
   "outputs": [],
   "source": [
    "\n",
    "\n",
    "\n",
    "\n",
    "\n",
    "\n",
    "\n",
    "\n",
    "\n",
    "\n",
    "\n"
   ]
  },
  {
   "cell_type": "code",
   "execution_count": 105,
   "id": "2f905f69",
   "metadata": {},
   "outputs": [
    {
     "name": "stdout",
     "output_type": "stream",
     "text": [
      "44.24778761061947%\n"
     ]
    },
    {
     "name": "stderr",
     "output_type": "stream",
     "text": [
      "/Users/rch/opt/anaconda3/lib/python3.9/site-packages/sklearn/neural_network/_multilayer_perceptron.py:541: ConvergenceWarning: lbfgs failed to converge (status=1):\n",
      "STOP: TOTAL NO. of ITERATIONS REACHED LIMIT.\n",
      "\n",
      "Increase the number of iterations (max_iter) or scale the data as shown in:\n",
      "    https://scikit-learn.org/stable/modules/preprocessing.html\n",
      "  self.n_iter_ = _check_optimize_result(\"lbfgs\", opt_res, self.max_iter)\n"
     ]
    }
   ],
   "source": [
    "from sklearn.neural_network import MLPClassifier\n",
    "\n",
    "mlp_params = {'activation': 'relu', \n",
    "              'solver': 'lbfgs', \n",
    "              'hidden_layer_sizes': 1283, \n",
    "              'alpha': 0.3849485717707319, \n",
    "              'batch_size': 163, \n",
    "              'learning_rate': 'constant',\n",
    "              'max_iter':1000}\n",
    "\n",
    "clf = make_pipeline(RobustScaler(), MLPClassifier(**mlp_params))\n",
    "clf.fit(X_train, y_train)\n",
    "\n",
    "y_pred = clf.predict(X_test)\n",
    "accuracy = accuracy_score(y_test, y_pred)\n",
    "\n",
    "print(f\"{accuracy*100}%\")\n",
    "\n"
   ]
  },
  {
   "cell_type": "code",
   "execution_count": null,
   "id": "6d6e67d6",
   "metadata": {},
   "outputs": [],
   "source": []
  },
  {
   "cell_type": "markdown",
   "id": "93f5b43f",
   "metadata": {},
   "source": [
    "# **Convolutional Neural Network (CNN)**"
   ]
  },
  {
   "cell_type": "code",
   "execution_count": 85,
   "id": "80693459",
   "metadata": {},
   "outputs": [],
   "source": [
    "import tensorflow as tf\n",
    "import keras\n",
    "from keras.preprocessing import sequence\n",
    "from keras.models import Sequential\n",
    "from keras.layers import Dense, Embedding\n",
    "from keras.layers import LSTM\n",
    "from keras.preprocessing.text import Tokenizer\n",
    "from keras_preprocessing.sequence import pad_sequences\n",
    "from keras.utils import to_categorical\n",
    "from keras.layers import Input, Flatten, Dropout, Activation\n",
    "from keras.layers import Conv1D, MaxPooling1D, AveragePooling1D, BatchNormalization\n",
    "from keras.models import Model\n",
    "from keras.callbacks import ModelCheckpoint\n",
    "from sklearn.metrics import confusion_matrix\n",
    "\n",
    "model = Sequential()\n",
    "\n",
    "# model2.add(layers.Conv2D(64, (4, 4), activation='relu', kernel_regularizer=regularizers.l2(l=0.01)))\n",
    "# model2.add(layers.MaxPooling2D((2, 2)))# Hidden Layer 2\n",
    "# model2.add(layers.Conv2D(128, (3, 3), activation='relu', kernel_regularizer=regularizers.l2(l=0.01)))\n",
    "# model2.add(layers.MaxPooling2D((2,2)))\n",
    "\n",
    "# model3.add(layers.Conv2D(32, (3, 3), activation='relu', kernel_initializer='he_normal', input_shape=(96, 96, 3)))\n",
    "\n",
    "# random.seed(123) # Establish Consistency in resultsmodel4 = Sequential() # Instantiate the 4th Modelmodel4.add(layers.Conv2D(32, (3, 3), activation=’relu’, input_shape=(96, 96, 3)))\n",
    "# model4.add(layers.MaxPooling2D((2, 2)))\n",
    "# model4.add(Dropout(0.4))\n",
    "# model4.add(layers.Conv2D(64, (4, 4), activation='relu'))\n",
    "# model4.add(layers.MaxPooling2D((2, 2)))\n",
    "# model4.add(Dropout(0.4)) # Flattening- Convert 2D matrix to a 1D vector\n",
    "# model4.add(layers.Flatten())\n",
    "# model4.add(layers.Dense(512, activation = 'relu'))\n",
    "# model4.add(Dropout(0.2))\n",
    "# model4.add(layers.Dense(1, activation='sigmoid'))\n",
    "\n",
    "# model5.add(layers.Conv2D(32, (3, 3), activation='relu', kernel_constraint=unit_norm(), input_shape=(96, 96, 3)))\n",
    "\n",
    "\n",
    "# model.add(Conv1D(128, 16, padding='same', input_shape=(40,1)))\n",
    "# model.add(Activation('relu'))\n",
    "\n",
    "# model.add(Conv1D(128, 16, padding='same', input_shape=(40,1)))\n",
    "# model.add(BatchNormalization())\n",
    "# model.add(Activation('relu'))\n",
    "# # model.add(Dropout(0.4))\n",
    "\n",
    "# model.add(MaxPooling1D(pool_size=8))\n",
    "\n",
    "# model.add(Conv1D(128, 16, padding='same', input_shape=(40,1)))\n",
    "# model.add(Activation('relu'))\n",
    "\n",
    "# model.add(Conv1D(128, 16, padding='same', input_shape=(40,1)))\n",
    "# model.add(Activation('relu'))\n",
    "\n",
    "# model.add(Conv1D(128, 16, padding='same', input_shape=(40,1)))\n",
    "# model.add(Activation('relu'))\n",
    "\n",
    "# # model.add(Conv1D(128, 16, padding='same', input_shape=(40,1)))\n",
    "# # model.add(BatchNormalization())\n",
    "# # model.add(Activation('relu'))\n",
    "\n",
    "# # model.add(MaxPooling1D(pool_size=5))\n",
    "\n",
    "# # model.add(Conv1D(128, 5, padding='same', input_shape=(40,1)))\n",
    "# # model.add(Activation('relu'))\n",
    "\n",
    "# # model.add(Conv1D(128, 5, padding='same', input_shape=(40,1)))\n",
    "# # model.add(Activation('relu'))\n",
    "\n",
    "# # model.add(Dropout(0.2))\n",
    "# model.add(Flatten())\n",
    "# # model.add(Dense(10, kernel_regularizer='l2', bias_regularizer='l2'))\n",
    "# model.add(Dense(8))\n",
    "# # model.add(Activation('softmax'))\n",
    "\n",
    "# opt = keras.optimizers.RMSprop(learning_rate=0.0001, rho=0.9, epsilon=None, decay=0.0)\n",
    "\n",
    "\n",
    "model.add(Conv1D(128, 5, padding='same', input_shape=(40,1)))\n",
    "model.add(Activation('relu'))\n",
    "model.add(Dropout(0.1))\n",
    "model.add(MaxPooling1D(pool_size=(8)))\n",
    "model.add(Conv1D(128, 5, padding='same',))\n",
    "model.add(Activation('relu'))\n",
    "model.add(Dropout(0.1))\n",
    "model.add(Flatten())\n",
    "model.add(Dense(10))\n",
    "model.add(Activation('softmax'))\n",
    "opt = keras.optimizers.RMSprop(learning_rate=0.0005, rho=0.9, epsilon=None, decay=0.0)\n",
    "\n",
    "\n",
    "\n",
    "\n",
    "# model.add(Conv1D(128, 5,padding='same', input_shape=(34,1)))\n",
    "# model.add(Activation('relu'))\n",
    "# model.add(Dropout(0.1))\n",
    "# model.add(MaxPooling1D(pool_size=(8)))\n",
    "# model.add(Conv1D(128, 5,padding='same',))\n",
    "# model.add(Activation('relu'))\n",
    "# model.add(Dropout(0.1))\n",
    "# model.add(Flatten())\n",
    "# model.add(Dense(10))\n",
    "# model.add(Activation('softmax'))\n",
    "# opt = keras.optimizers.RMSprop(lr=0.00005, rho=0.9, epsilon=None, decay=0.0)"
   ]
  },
  {
   "cell_type": "code",
   "execution_count": 86,
   "id": "e247ea66",
   "metadata": {},
   "outputs": [],
   "source": [
    "model.compile(loss='sparse_categorical_crossentropy',\n",
    "              optimizer=opt,\n",
    "              metrics=['accuracy'])\n"
   ]
  },
  {
   "cell_type": "code",
   "execution_count": 87,
   "id": "48fc0c25",
   "metadata": {},
   "outputs": [
    {
     "name": "stdout",
     "output_type": "stream",
     "text": [
      "Epoch 1/60\n",
      "253/253 [==============================] - 1s 3ms/step - loss: 7.9245 - accuracy: 0.1532 - val_loss: 2.7653 - val_accuracy: 0.1062\n",
      "Epoch 2/60\n",
      "253/253 [==============================] - 1s 2ms/step - loss: 2.4400 - accuracy: 0.2036 - val_loss: 2.0158 - val_accuracy: 0.2035\n",
      "Epoch 3/60\n",
      "253/253 [==============================] - 1s 2ms/step - loss: 2.0346 - accuracy: 0.2283 - val_loss: 1.7916 - val_accuracy: 0.2832\n",
      "Epoch 4/60\n",
      "253/253 [==============================] - 1s 2ms/step - loss: 1.9469 - accuracy: 0.2540 - val_loss: 1.8272 - val_accuracy: 0.3097\n",
      "Epoch 5/60\n",
      "253/253 [==============================] - 1s 2ms/step - loss: 1.8945 - accuracy: 0.2628 - val_loss: 1.9866 - val_accuracy: 0.2035\n",
      "Epoch 6/60\n",
      "253/253 [==============================] - 1s 2ms/step - loss: 1.8515 - accuracy: 0.2866 - val_loss: 1.7761 - val_accuracy: 0.3009\n",
      "Epoch 7/60\n",
      "253/253 [==============================] - 1s 2ms/step - loss: 1.8084 - accuracy: 0.3162 - val_loss: 1.7480 - val_accuracy: 0.2655\n",
      "Epoch 8/60\n",
      "253/253 [==============================] - 1s 2ms/step - loss: 1.7906 - accuracy: 0.3182 - val_loss: 1.7548 - val_accuracy: 0.2743\n",
      "Epoch 9/60\n",
      "253/253 [==============================] - 1s 3ms/step - loss: 1.7931 - accuracy: 0.3350 - val_loss: 1.8099 - val_accuracy: 0.2743\n",
      "Epoch 10/60\n",
      "253/253 [==============================] - 1s 3ms/step - loss: 1.7625 - accuracy: 0.3221 - val_loss: 1.6829 - val_accuracy: 0.3805\n",
      "Epoch 11/60\n",
      "253/253 [==============================] - 1s 2ms/step - loss: 1.7292 - accuracy: 0.3557 - val_loss: 1.7120 - val_accuracy: 0.3186\n",
      "Epoch 12/60\n",
      "253/253 [==============================] - 1s 2ms/step - loss: 1.7149 - accuracy: 0.3449 - val_loss: 1.7282 - val_accuracy: 0.3186\n",
      "Epoch 13/60\n",
      "253/253 [==============================] - 1s 3ms/step - loss: 1.6750 - accuracy: 0.3636 - val_loss: 1.6550 - val_accuracy: 0.3097\n",
      "Epoch 14/60\n",
      "253/253 [==============================] - 1s 3ms/step - loss: 1.6848 - accuracy: 0.3864 - val_loss: 1.6961 - val_accuracy: 0.3805\n",
      "Epoch 15/60\n",
      "253/253 [==============================] - 1s 3ms/step - loss: 1.6572 - accuracy: 0.3844 - val_loss: 1.7006 - val_accuracy: 0.3274\n",
      "Epoch 16/60\n",
      "253/253 [==============================] - 1s 2ms/step - loss: 1.6648 - accuracy: 0.3824 - val_loss: 1.6711 - val_accuracy: 0.3274\n",
      "Epoch 17/60\n",
      "253/253 [==============================] - 1s 2ms/step - loss: 1.6225 - accuracy: 0.4051 - val_loss: 1.6400 - val_accuracy: 0.3451\n",
      "Epoch 18/60\n",
      "253/253 [==============================] - 1s 3ms/step - loss: 1.6015 - accuracy: 0.4051 - val_loss: 1.7216 - val_accuracy: 0.2920\n",
      "Epoch 19/60\n",
      "253/253 [==============================] - 1s 3ms/step - loss: 1.6159 - accuracy: 0.3992 - val_loss: 1.6436 - val_accuracy: 0.3717\n",
      "Epoch 20/60\n",
      "253/253 [==============================] - 1s 4ms/step - loss: 1.6080 - accuracy: 0.4150 - val_loss: 1.5402 - val_accuracy: 0.3540\n",
      "Epoch 21/60\n",
      "253/253 [==============================] - 1s 3ms/step - loss: 1.5576 - accuracy: 0.4101 - val_loss: 1.6068 - val_accuracy: 0.3717\n",
      "Epoch 22/60\n",
      "253/253 [==============================] - 1s 3ms/step - loss: 1.5602 - accuracy: 0.4269 - val_loss: 1.5657 - val_accuracy: 0.3805\n",
      "Epoch 23/60\n",
      "253/253 [==============================] - 1s 3ms/step - loss: 1.5338 - accuracy: 0.4368 - val_loss: 1.5919 - val_accuracy: 0.4071\n",
      "Epoch 24/60\n",
      "253/253 [==============================] - 1s 3ms/step - loss: 1.5363 - accuracy: 0.4219 - val_loss: 1.6089 - val_accuracy: 0.4071\n",
      "Epoch 25/60\n",
      "253/253 [==============================] - 1s 3ms/step - loss: 1.5018 - accuracy: 0.4506 - val_loss: 1.5609 - val_accuracy: 0.3805\n",
      "Epoch 26/60\n",
      "253/253 [==============================] - 1s 4ms/step - loss: 1.4832 - accuracy: 0.4565 - val_loss: 1.5476 - val_accuracy: 0.4248\n",
      "Epoch 27/60\n",
      "253/253 [==============================] - 1s 4ms/step - loss: 1.4800 - accuracy: 0.4585 - val_loss: 1.5144 - val_accuracy: 0.3805\n",
      "Epoch 28/60\n",
      "253/253 [==============================] - 1s 3ms/step - loss: 1.4836 - accuracy: 0.4545 - val_loss: 1.6475 - val_accuracy: 0.3894\n",
      "Epoch 29/60\n",
      "253/253 [==============================] - 1s 4ms/step - loss: 1.4669 - accuracy: 0.4516 - val_loss: 1.5767 - val_accuracy: 0.3982\n",
      "Epoch 30/60\n",
      "253/253 [==============================] - 1s 4ms/step - loss: 1.4479 - accuracy: 0.4625 - val_loss: 1.5495 - val_accuracy: 0.4336\n",
      "Epoch 31/60\n",
      "253/253 [==============================] - 1s 3ms/step - loss: 1.4372 - accuracy: 0.4713 - val_loss: 1.5282 - val_accuracy: 0.3894\n",
      "Epoch 32/60\n",
      "253/253 [==============================] - 1s 3ms/step - loss: 1.4302 - accuracy: 0.4684 - val_loss: 1.4823 - val_accuracy: 0.4956\n",
      "Epoch 33/60\n",
      "253/253 [==============================] - 1s 3ms/step - loss: 1.4650 - accuracy: 0.4674 - val_loss: 1.6382 - val_accuracy: 0.4602\n",
      "Epoch 34/60\n",
      "253/253 [==============================] - 1s 2ms/step - loss: 1.4182 - accuracy: 0.4753 - val_loss: 1.4535 - val_accuracy: 0.4602\n",
      "Epoch 35/60\n",
      "253/253 [==============================] - 1s 3ms/step - loss: 1.3726 - accuracy: 0.4951 - val_loss: 1.4692 - val_accuracy: 0.4425\n",
      "Epoch 36/60\n",
      "253/253 [==============================] - 1s 3ms/step - loss: 1.4103 - accuracy: 0.4881 - val_loss: 1.5263 - val_accuracy: 0.4336\n",
      "Epoch 37/60\n",
      "253/253 [==============================] - 1s 3ms/step - loss: 1.3700 - accuracy: 0.4872 - val_loss: 1.4779 - val_accuracy: 0.4690\n",
      "Epoch 38/60\n",
      "253/253 [==============================] - 1s 3ms/step - loss: 1.3669 - accuracy: 0.4960 - val_loss: 1.5045 - val_accuracy: 0.4690\n",
      "Epoch 39/60\n",
      "253/253 [==============================] - 1s 3ms/step - loss: 1.3698 - accuracy: 0.4980 - val_loss: 1.4878 - val_accuracy: 0.4425\n",
      "Epoch 40/60\n",
      "253/253 [==============================] - 1s 3ms/step - loss: 1.3519 - accuracy: 0.5059 - val_loss: 1.3905 - val_accuracy: 0.5044\n",
      "Epoch 41/60\n",
      "253/253 [==============================] - 1s 3ms/step - loss: 1.3440 - accuracy: 0.4911 - val_loss: 1.4886 - val_accuracy: 0.4690\n",
      "Epoch 42/60\n",
      "253/253 [==============================] - 1s 3ms/step - loss: 1.3607 - accuracy: 0.5030 - val_loss: 1.5041 - val_accuracy: 0.4425\n",
      "Epoch 43/60\n",
      "253/253 [==============================] - 1s 4ms/step - loss: 1.3408 - accuracy: 0.5119 - val_loss: 1.4240 - val_accuracy: 0.4425\n",
      "Epoch 44/60\n",
      "253/253 [==============================] - 1s 3ms/step - loss: 1.3165 - accuracy: 0.5188 - val_loss: 1.4381 - val_accuracy: 0.5133\n",
      "Epoch 45/60\n",
      "253/253 [==============================] - 1s 2ms/step - loss: 1.3153 - accuracy: 0.5089 - val_loss: 1.4909 - val_accuracy: 0.4602\n",
      "Epoch 46/60\n",
      "253/253 [==============================] - 1s 2ms/step - loss: 1.3128 - accuracy: 0.5247 - val_loss: 1.4436 - val_accuracy: 0.4513\n",
      "Epoch 47/60\n",
      "253/253 [==============================] - 1s 3ms/step - loss: 1.2729 - accuracy: 0.5336 - val_loss: 1.4939 - val_accuracy: 0.4867\n",
      "Epoch 48/60\n",
      "253/253 [==============================] - 1s 2ms/step - loss: 1.2874 - accuracy: 0.5356 - val_loss: 1.5617 - val_accuracy: 0.4248\n",
      "Epoch 49/60\n",
      "253/253 [==============================] - 1s 2ms/step - loss: 1.2655 - accuracy: 0.5346 - val_loss: 1.3607 - val_accuracy: 0.5133\n",
      "Epoch 50/60\n",
      "253/253 [==============================] - 1s 2ms/step - loss: 1.2601 - accuracy: 0.5415 - val_loss: 1.5541 - val_accuracy: 0.4425\n",
      "Epoch 51/60\n",
      "253/253 [==============================] - 1s 2ms/step - loss: 1.2750 - accuracy: 0.5267 - val_loss: 1.5150 - val_accuracy: 0.4690\n",
      "Epoch 52/60\n",
      "253/253 [==============================] - 1s 2ms/step - loss: 1.2187 - accuracy: 0.5751 - val_loss: 1.5186 - val_accuracy: 0.4602\n",
      "Epoch 53/60\n",
      "253/253 [==============================] - 1s 2ms/step - loss: 1.2470 - accuracy: 0.5445 - val_loss: 1.4665 - val_accuracy: 0.4425\n",
      "Epoch 54/60\n",
      "253/253 [==============================] - 1s 2ms/step - loss: 1.2294 - accuracy: 0.5287 - val_loss: 1.5598 - val_accuracy: 0.4956\n",
      "Epoch 55/60\n",
      "253/253 [==============================] - 1s 3ms/step - loss: 1.2154 - accuracy: 0.5771 - val_loss: 1.4405 - val_accuracy: 0.4690\n",
      "Epoch 56/60\n",
      "253/253 [==============================] - 1s 2ms/step - loss: 1.2584 - accuracy: 0.5425 - val_loss: 1.4042 - val_accuracy: 0.4867\n",
      "Epoch 57/60\n",
      "253/253 [==============================] - 1s 2ms/step - loss: 1.2160 - accuracy: 0.5603 - val_loss: 1.5296 - val_accuracy: 0.4779\n",
      "Epoch 58/60\n"
     ]
    },
    {
     "name": "stdout",
     "output_type": "stream",
     "text": [
      "253/253 [==============================] - 1s 2ms/step - loss: 1.2269 - accuracy: 0.5435 - val_loss: 1.5176 - val_accuracy: 0.4956\n",
      "Epoch 59/60\n",
      "253/253 [==============================] - 1s 2ms/step - loss: 1.1879 - accuracy: 0.5672 - val_loss: 1.4979 - val_accuracy: 0.4425\n",
      "Epoch 60/60\n",
      "253/253 [==============================] - 1s 2ms/step - loss: 1.1978 - accuracy: 0.5623 - val_loss: 1.5545 - val_accuracy: 0.4336\n"
     ]
    }
   ],
   "source": [
    "X_train_cnn = np.expand_dims(X_train, axis=2)\n",
    "X_test_cnn = np.expand_dims(X_test, axis=2)\n",
    "\n",
    "# print(X_train_cnn.shape)\n",
    "# print(X_test_cnn.shape)\n",
    "\n",
    "# print(X_train.shape)\n",
    "# print(X_test.shape)\n",
    "# print(y_train.shape)\n",
    "\n",
    "cnnhistory = model.fit(X_train_cnn, y_train, batch_size=4, epochs=60, validation_data=(X_test_cnn, y_test))\n"
   ]
  },
  {
   "cell_type": "code",
   "execution_count": 60,
   "id": "06314108",
   "metadata": {},
   "outputs": [
    {
     "data": {
      "image/png": "[encoded data removed]",
      "text/plain": [
       "<Figure size 640x480 with 1 Axes>"
      ]
     },
     "metadata": {},
     "output_type": "display_data"
    }
   ],
   "source": [
    "plt.plot(cnnhistory.history['loss'])\n",
    "plt.plot(cnnhistory.history['val_loss'])\n",
    "plt.title('model loss')\n",
    "plt.ylabel('loss')\n",
    "plt.xlabel('epoch')\n",
    "plt.legend(['train', 'test'], loc='upper left')\n",
    "plt.show()"
   ]
  },
  {
   "cell_type": "code",
   "execution_count": 61,
   "id": "a60d5dc5",
   "metadata": {},
   "outputs": [
    {
     "data": {
      "image/png": "[encoded data removed]",
      "text/plain": [
       "<Figure size 640x480 with 1 Axes>"
      ]
     },
     "metadata": {},
     "output_type": "display_data"
    }
   ],
   "source": [
    "plt.plot(cnnhistory.history['accuracy'])\n",
    "plt.plot(cnnhistory.history['val_accuracy'])\n",
    "plt.title('model accuracy')\n",
    "plt.ylabel('acc')\n",
    "plt.xlabel('epoch')\n",
    "plt.legend(['train', 'test'], loc='upper left')\n",
    "plt.show()"
   ]
  },
  {
   "cell_type": "code",
   "execution_count": null,
   "id": "0efa2b7e",
   "metadata": {},
   "outputs": [],
   "source": []
  },
  {
   "cell_type": "code",
   "execution_count": null,
   "id": "cc9621d3",
   "metadata": {},
   "outputs": [],
   "source": []
  },
  {
   "cell_type": "code",
   "execution_count": null,
   "id": "cfa85eac",
   "metadata": {},
   "outputs": [],
   "source": []
  },
  {
   "cell_type": "code",
   "execution_count": null,
   "id": "954ea8c5",
   "metadata": {},
   "outputs": [],
   "source": [
    "loss, accuracy = model.evaluate(X_test_cnn, y_test)\n",
    "print(f\"{accuracy*100}%\")\n",
    "\n",
    "y_pred = model.predict(X_test_cnn)\n",
    "print(np.shape(y_pred))\n",
    "y_pred = np.argmax(y_pred, axis=1)\n",
    "print(y_pred)\n",
    "\n",
    "accuracy = accuracy_score(y_test, y_pred)\n",
    "print(f\"{accuracy*100}%\")"
   ]
  },
  {
   "cell_type": "code",
   "execution_count": null,
   "id": "eb796fd9",
   "metadata": {},
   "outputs": [],
   "source": [
    "\n",
    "opt = keras.optimizers.RMSprop(learning_rate=0.00005, rho=0.8, epsilon=None, decay=0.0)\n",
    "\n",
    "model.compile(loss='sparse_categorical_crossentropy',\n",
    "              optimizer=opt,\n",
    "              metrics=['accuracy'])\n",
    "\n"
   ]
  },
  {
   "cell_type": "code",
   "execution_count": null,
   "id": "9d3fc063",
   "metadata": {},
   "outputs": [],
   "source": [
    "cnnhistory = model.fit(X_train_cnn, y_train, batch_size=16, epochs=1000)\n",
    "\n"
   ]
  },
  {
   "cell_type": "code",
   "execution_count": null,
   "id": "1193f0d3",
   "metadata": {},
   "outputs": [],
   "source": [
    "y_pred = model.predict(X_test_cnn)\n",
    "\n",
    "loss, accuracy = model.evaluate(X_test_cnn, y_test)\n",
    "print(f\"{accuracy*100}%\")\n",
    "print(f\"{loss}\")\n",
    "\n",
    "\n",
    "print(np.shape(y_pred))\n",
    "#y_pred = y_pred[:,0:8]\n",
    "print(np.shape(y_pred))\n",
    "y_pred = np.argmax(y_pred,1)\n",
    "\n",
    "\n",
    "print(y_pred)"
   ]
  },
  {
   "cell_type": "code",
   "execution_count": null,
   "id": "fe881c90",
   "metadata": {},
   "outputs": [],
   "source": []
  },
  {
   "cell_type": "code",
   "execution_count": null,
   "id": "b4ec78f7",
   "metadata": {},
   "outputs": [],
   "source": []
  },
  {
   "cell_type": "code",
   "execution_count": null,
   "id": "b234845d",
   "metadata": {},
   "outputs": [],
   "source": []
  },
  {
   "cell_type": "code",
   "execution_count": null,
   "id": "91de6ba2",
   "metadata": {},
   "outputs": [],
   "source": [
    "from sklearn.pipeline import make_pipeline\n",
    "from sklearn.preprocessing import StandardScaler, RobustScaler\n",
    "from sklearn.linear_model import LogisticRegression\n",
    "\n",
    "clf = make_pipeline(RobustScaler(), LogisticRegression(tol=0.00001, max_iter=10000))\n",
    "clf.fit(X_train, y_train)"
   ]
  },
  {
   "cell_type": "code",
   "execution_count": null,
   "id": "cff149bf",
   "metadata": {},
   "outputs": [],
   "source": [
    "from sklearn.pipeline import make_pipeline\n",
    "from sklearn.preprocessing import StandardScaler, RobustScaler\n",
    "from sklearn.neighbors import KNeighborsClassifier\n",
    "\n",
    "clf = make_pipeline(RobustScaler(), KNeighborsClassifier(n_neighbors = 8))\n",
    "clf.fit(X_train, y_train)"
   ]
  },
  {
   "cell_type": "code",
   "execution_count": null,
   "id": "d752535a",
   "metadata": {},
   "outputs": [],
   "source": []
  }
 ],
 "metadata": {
  "kernelspec": {
   "display_name": "Python 3 (ipykernel)",
   "language": "python",
   "name": "python3"
  },
  "language_info": {
   "codemirror_mode": {
    "name": "ipython",
    "version": 3
   },
   "file_extension": ".py",
   "mimetype": "text/x-python",
   "name": "python",
   "nbconvert_exporter": "python",
   "pygments_lexer": "ipython3",
   "version": "3.9.7"
  }
 },
 "nbformat": 4,
 "nbformat_minor": 5
}
