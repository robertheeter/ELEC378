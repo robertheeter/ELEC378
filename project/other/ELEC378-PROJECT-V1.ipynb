{
 "cells": [
  {
   "cell_type": "code",
   "execution_count": null,
   "id": "8ee42dc5",
   "metadata": {},
   "outputs": [],
   "source": [
    "# ROBERT HEETER\n",
    "# ELEC 378 Machine Learning\n",
    "# 21 April 2023\n",
    "\n",
    "# PROJECT 1\n"
   ]
  },
  {
   "cell_type": "code",
   "execution_count": null,
   "id": "cb778dc5",
   "metadata": {},
   "outputs": [],
   "source": [
    "import numpy as np\n",
    "import os\n",
    "import librosa as lb\n"
   ]
  },
  {
   "cell_type": "code",
   "execution_count": null,
   "id": "74b17fb4",
   "metadata": {},
   "outputs": [],
   "source": [
    "data = os.path.join(os.getcwd(),'elec-378-sp2023-speech-emotion-classification/data/data')\n",
    "\n",
    "data_sr = 48000 # sampling rate of audio files is 48000\n",
    "\n",
    "# y_maxsize = 253053 # max size audio sample in data\n",
    "y_maxsize = 300000\n",
    "\n",
    "X = []\n",
    "for filename in os.listdir(data):\n",
    "    audiofile = os.path.join(data,filename)\n",
    "    \n",
    "    if os.path.isfile(audiofile):\n",
    "        y, sr = lb.load(audiofile,sr=data_sr)\n",
    "        \n",
    "        y = librosa.util.fix_length(y, size=y_maxsize)\n",
    "        X.append(y)\n",
    "        \n",
    "X = np.array(X)\n",
    "# print(np.shape(X))\n",
    "\n",
    "for y in X:\n",
    "    chroma_stft = lb.feature.chroma_stft(y=y, sr=data_sr)\n",
    "    chroma_cqt = lb.feature.chroma_cqt(y=y, sr=data_sr)\n",
    "    chroma_cens = lb.feature.chroma_cens(y=y, sr=data_sr)\n",
    "#     chroma_stft = lb.feature.chroma_stft(y=y, sr=data_sr)\n",
    "    mfcc = lb.feature.mfcc(y=y, sr=data_sr)\n",
    "    rms = lb.feature.rms(y=y)\n",
    "    \n",
    "    break\n",
    "# \n",
    "# print(chroma_stft)\n",
    "print(np.shape(chroma_stft))\n",
    "print(np.shape(chroma_cqt))\n",
    "print(np.shape(chroma_cens))\n",
    "print(np.shape(mfcc))\n",
    "print(np.shape(rms))\n",
    "\n",
    "\n",
    "\n"
   ]
  },
  {
   "cell_type": "code",
   "execution_count": null,
   "id": "79e7457f",
   "metadata": {},
   "outputs": [],
   "source": [
    "np.set_printoptions(threshold=np.inf)\n",
    "# print(chroma_stft.T)\n",
    "print(rms[0][0])"
   ]
  },
  {
   "cell_type": "code",
   "execution_count": null,
   "id": "3a7823fc",
   "metadata": {},
   "outputs": [],
   "source": []
  }
 ],
 "metadata": {
  "kernelspec": {
   "display_name": "Python 3 (ipykernel)",
   "language": "python",
   "name": "python3"
  },
  "language_info": {
   "codemirror_mode": {
    "name": "ipython",
    "version": 3
   },
   "file_extension": ".py",
   "mimetype": "text/x-python",
   "name": "python",
   "nbconvert_exporter": "python",
   "pygments_lexer": "ipython3",
   "version": "3.9.7"
  }
 },
 "nbformat": 4,
 "nbformat_minor": 5
}
